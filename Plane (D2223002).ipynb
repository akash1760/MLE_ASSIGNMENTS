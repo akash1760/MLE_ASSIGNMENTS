{
 "cells": [
  {
   "cell_type": "markdown",
   "id": "1d75bd2879f1d373",
   "metadata": {
    "collapsed": false
   },
   "source": [
    "## Importing necessary libraries"
   ]
  },
  {
   "cell_type": "code",
   "execution_count": 1,
   "id": "c79fce8ac09fb046",
   "metadata": {
    "ExecuteTime": {
     "end_time": "2024-02-06T04:25:27.698242500Z",
     "start_time": "2024-02-06T04:25:27.184277500Z"
    },
    "collapsed": false
   },
   "outputs": [],
   "source": [
    "import numpy as np\n",
    "import pandas as pd"
   ]
  },
  {
   "cell_type": "markdown",
   "id": "dd72eaecff4c4446",
   "metadata": {
    "collapsed": false
   },
   "source": [
    "## Loading the dataset"
   ]
  },
  {
   "cell_type": "code",
   "execution_count": 2,
   "id": "1492a2190cfd883c",
   "metadata": {
    "ExecuteTime": {
     "end_time": "2024-02-06T04:25:29.312779400Z",
     "start_time": "2024-02-06T04:25:29.251318400Z"
    },
    "collapsed": false
   },
   "outputs": [],
   "source": [
    "df = pd.read_csv(\"planes.csv\")"
   ]
  },
  {
   "cell_type": "markdown",
   "id": "3d76343eb4a6d7a2",
   "metadata": {
    "collapsed": false
   },
   "source": [
    "## Displaying the entire dataset"
   ]
  },
  {
   "cell_type": "code",
   "execution_count": 3,
   "id": "b80758b51b06b834",
   "metadata": {
    "ExecuteTime": {
     "end_time": "2024-02-06T04:25:30.358311700Z",
     "start_time": "2024-02-06T04:25:30.332067100Z"
    },
    "collapsed": false
   },
   "outputs": [
    {
     "data": {
      "text/html": [
       "<div>\n",
       "<style scoped>\n",
       "    .dataframe tbody tr th:only-of-type {\n",
       "        vertical-align: middle;\n",
       "    }\n",
       "\n",
       "    .dataframe tbody tr th {\n",
       "        vertical-align: top;\n",
       "    }\n",
       "\n",
       "    .dataframe thead th {\n",
       "        text-align: right;\n",
       "    }\n",
       "</style>\n",
       "<table border=\"1\" class=\"dataframe\">\n",
       "  <thead>\n",
       "    <tr style=\"text-align: right;\">\n",
       "      <th></th>\n",
       "      <th>Airline</th>\n",
       "      <th>Date_of_Journey</th>\n",
       "      <th>Source</th>\n",
       "      <th>Destination</th>\n",
       "      <th>Route</th>\n",
       "      <th>Dep_Time</th>\n",
       "      <th>Arrival_Time</th>\n",
       "      <th>Duration</th>\n",
       "      <th>Total_Stops</th>\n",
       "      <th>Additional_Info</th>\n",
       "      <th>Price</th>\n",
       "    </tr>\n",
       "  </thead>\n",
       "  <tbody>\n",
       "    <tr>\n",
       "      <th>0</th>\n",
       "      <td>Jet Airways</td>\n",
       "      <td>9/06/2019</td>\n",
       "      <td>Delhi</td>\n",
       "      <td>Cochin</td>\n",
       "      <td>DEL → LKO → BOM → COK</td>\n",
       "      <td>09:25</td>\n",
       "      <td>04:25 10 Jun</td>\n",
       "      <td>19h</td>\n",
       "      <td>2 stops</td>\n",
       "      <td>No info</td>\n",
       "      <td>13882.0</td>\n",
       "    </tr>\n",
       "    <tr>\n",
       "      <th>1</th>\n",
       "      <td>IndiGo</td>\n",
       "      <td>12/05/2019</td>\n",
       "      <td>Kolkata</td>\n",
       "      <td>Banglore</td>\n",
       "      <td>CCU → NAG → BLR</td>\n",
       "      <td>18:05</td>\n",
       "      <td>23:30</td>\n",
       "      <td>5h 25m</td>\n",
       "      <td>1 stop</td>\n",
       "      <td>No info</td>\n",
       "      <td>6218.0</td>\n",
       "    </tr>\n",
       "    <tr>\n",
       "      <th>2</th>\n",
       "      <td>IndiGo</td>\n",
       "      <td>01/03/2019</td>\n",
       "      <td>Banglore</td>\n",
       "      <td>New Delhi</td>\n",
       "      <td>BLR → NAG → DEL</td>\n",
       "      <td>16:50</td>\n",
       "      <td>21:35</td>\n",
       "      <td>4h 45m</td>\n",
       "      <td>1 stop</td>\n",
       "      <td>No info</td>\n",
       "      <td>13302.0</td>\n",
       "    </tr>\n",
       "    <tr>\n",
       "      <th>3</th>\n",
       "      <td>SpiceJet</td>\n",
       "      <td>24/06/2019</td>\n",
       "      <td>Kolkata</td>\n",
       "      <td>Banglore</td>\n",
       "      <td>CCU → BLR</td>\n",
       "      <td>09:00</td>\n",
       "      <td>11:25</td>\n",
       "      <td>2h 25m</td>\n",
       "      <td>non-stop</td>\n",
       "      <td>No info</td>\n",
       "      <td>3873.0</td>\n",
       "    </tr>\n",
       "    <tr>\n",
       "      <th>4</th>\n",
       "      <td>Jet Airways</td>\n",
       "      <td>12/03/2019</td>\n",
       "      <td>Banglore</td>\n",
       "      <td>New Delhi</td>\n",
       "      <td>BLR → BOM → DEL</td>\n",
       "      <td>18:55</td>\n",
       "      <td>10:25 13 Mar</td>\n",
       "      <td>15h 30m</td>\n",
       "      <td>1 stop</td>\n",
       "      <td>In-flight meal not included</td>\n",
       "      <td>11087.0</td>\n",
       "    </tr>\n",
       "    <tr>\n",
       "      <th>...</th>\n",
       "      <td>...</td>\n",
       "      <td>...</td>\n",
       "      <td>...</td>\n",
       "      <td>...</td>\n",
       "      <td>...</td>\n",
       "      <td>...</td>\n",
       "      <td>...</td>\n",
       "      <td>...</td>\n",
       "      <td>...</td>\n",
       "      <td>...</td>\n",
       "      <td>...</td>\n",
       "    </tr>\n",
       "    <tr>\n",
       "      <th>10655</th>\n",
       "      <td>Air Asia</td>\n",
       "      <td>9/04/2019</td>\n",
       "      <td>Kolkata</td>\n",
       "      <td>Banglore</td>\n",
       "      <td>CCU → BLR</td>\n",
       "      <td>19:55</td>\n",
       "      <td>22:25</td>\n",
       "      <td>2h 30m</td>\n",
       "      <td>non-stop</td>\n",
       "      <td>No info</td>\n",
       "      <td>4107.0</td>\n",
       "    </tr>\n",
       "    <tr>\n",
       "      <th>10656</th>\n",
       "      <td>Air India</td>\n",
       "      <td>27/04/2019</td>\n",
       "      <td>Kolkata</td>\n",
       "      <td>Banglore</td>\n",
       "      <td>CCU → BLR</td>\n",
       "      <td>20:45</td>\n",
       "      <td>23:20</td>\n",
       "      <td>2h 35m</td>\n",
       "      <td>non-stop</td>\n",
       "      <td>No info</td>\n",
       "      <td>4145.0</td>\n",
       "    </tr>\n",
       "    <tr>\n",
       "      <th>10657</th>\n",
       "      <td>Jet Airways</td>\n",
       "      <td>27/04/2019</td>\n",
       "      <td>Banglore</td>\n",
       "      <td>Delhi</td>\n",
       "      <td>BLR → DEL</td>\n",
       "      <td>NaN</td>\n",
       "      <td>11:20</td>\n",
       "      <td>3h</td>\n",
       "      <td>non-stop</td>\n",
       "      <td>NaN</td>\n",
       "      <td>7229.0</td>\n",
       "    </tr>\n",
       "    <tr>\n",
       "      <th>10658</th>\n",
       "      <td>Vistara</td>\n",
       "      <td>01/03/2019</td>\n",
       "      <td>Banglore</td>\n",
       "      <td>New Delhi</td>\n",
       "      <td>BLR → DEL</td>\n",
       "      <td>11:30</td>\n",
       "      <td>14:10</td>\n",
       "      <td>2h 40m</td>\n",
       "      <td>non-stop</td>\n",
       "      <td>No info</td>\n",
       "      <td>12648.0</td>\n",
       "    </tr>\n",
       "    <tr>\n",
       "      <th>10659</th>\n",
       "      <td>Air India</td>\n",
       "      <td>9/05/2019</td>\n",
       "      <td>Delhi</td>\n",
       "      <td>Cochin</td>\n",
       "      <td>DEL → GOI → BOM → COK</td>\n",
       "      <td>10:55</td>\n",
       "      <td>19:15</td>\n",
       "      <td>8h 20m</td>\n",
       "      <td>2 stops</td>\n",
       "      <td>No info</td>\n",
       "      <td>11753.0</td>\n",
       "    </tr>\n",
       "  </tbody>\n",
       "</table>\n",
       "<p>10660 rows × 11 columns</p>\n",
       "</div>"
      ],
      "text/plain": [
       "           Airline Date_of_Journey    Source Destination  \\\n",
       "0      Jet Airways       9/06/2019     Delhi      Cochin   \n",
       "1           IndiGo      12/05/2019   Kolkata    Banglore   \n",
       "2           IndiGo      01/03/2019  Banglore   New Delhi   \n",
       "3         SpiceJet      24/06/2019   Kolkata    Banglore   \n",
       "4      Jet Airways      12/03/2019  Banglore   New Delhi   \n",
       "...            ...             ...       ...         ...   \n",
       "10655     Air Asia       9/04/2019   Kolkata    Banglore   \n",
       "10656    Air India      27/04/2019   Kolkata    Banglore   \n",
       "10657  Jet Airways      27/04/2019  Banglore       Delhi   \n",
       "10658      Vistara      01/03/2019  Banglore   New Delhi   \n",
       "10659    Air India       9/05/2019     Delhi      Cochin   \n",
       "\n",
       "                       Route Dep_Time  Arrival_Time Duration Total_Stops  \\\n",
       "0      DEL → LKO → BOM → COK    09:25  04:25 10 Jun      19h     2 stops   \n",
       "1            CCU → NAG → BLR    18:05         23:30   5h 25m      1 stop   \n",
       "2            BLR → NAG → DEL    16:50         21:35   4h 45m      1 stop   \n",
       "3                  CCU → BLR    09:00         11:25   2h 25m    non-stop   \n",
       "4            BLR → BOM → DEL    18:55  10:25 13 Mar  15h 30m      1 stop   \n",
       "...                      ...      ...           ...      ...         ...   \n",
       "10655              CCU → BLR    19:55         22:25   2h 30m    non-stop   \n",
       "10656              CCU → BLR    20:45         23:20   2h 35m    non-stop   \n",
       "10657              BLR → DEL      NaN         11:20       3h    non-stop   \n",
       "10658              BLR → DEL    11:30         14:10   2h 40m    non-stop   \n",
       "10659  DEL → GOI → BOM → COK    10:55         19:15   8h 20m     2 stops   \n",
       "\n",
       "                   Additional_Info    Price  \n",
       "0                          No info  13882.0  \n",
       "1                          No info   6218.0  \n",
       "2                          No info  13302.0  \n",
       "3                          No info   3873.0  \n",
       "4      In-flight meal not included  11087.0  \n",
       "...                            ...      ...  \n",
       "10655                      No info   4107.0  \n",
       "10656                      No info   4145.0  \n",
       "10657                          NaN   7229.0  \n",
       "10658                      No info  12648.0  \n",
       "10659                      No info  11753.0  \n",
       "\n",
       "[10660 rows x 11 columns]"
      ]
     },
     "execution_count": 3,
     "metadata": {},
     "output_type": "execute_result"
    }
   ],
   "source": [
    "df"
   ]
  },
  {
   "cell_type": "markdown",
   "id": "4d98ff81f158309c",
   "metadata": {
    "collapsed": false
   },
   "source": [
    "## Displaying information about the dataset (data types, non-null counts, etc.)"
   ]
  },
  {
   "cell_type": "code",
   "execution_count": 4,
   "id": "528be6c2fb6c24fe",
   "metadata": {
    "ExecuteTime": {
     "end_time": "2024-02-06T04:25:30.791505500Z",
     "start_time": "2024-02-06T04:25:30.773383800Z"
    },
    "collapsed": false
   },
   "outputs": [
    {
     "name": "stdout",
     "output_type": "stream",
     "text": [
      "<class 'pandas.core.frame.DataFrame'>\n",
      "RangeIndex: 10660 entries, 0 to 10659\n",
      "Data columns (total 11 columns):\n",
      " #   Column           Non-Null Count  Dtype  \n",
      "---  ------           --------------  -----  \n",
      " 0   Airline          10233 non-null  object \n",
      " 1   Date_of_Journey  10338 non-null  object \n",
      " 2   Source           10473 non-null  object \n",
      " 3   Destination      10313 non-null  object \n",
      " 4   Route            10404 non-null  object \n",
      " 5   Dep_Time         10400 non-null  object \n",
      " 6   Arrival_Time     10466 non-null  object \n",
      " 7   Duration         10446 non-null  object \n",
      " 8   Total_Stops      10448 non-null  object \n",
      " 9   Additional_Info  10071 non-null  object \n",
      " 10  Price            10044 non-null  float64\n",
      "dtypes: float64(1), object(10)\n",
      "memory usage: 916.2+ KB\n"
     ]
    }
   ],
   "source": [
    "df.info()"
   ]
  },
  {
   "cell_type": "markdown",
   "id": "1af31da6ff07a5dd",
   "metadata": {
    "collapsed": false
   },
   "source": [
    "## Displaying the column names of the dataset"
   ]
  },
  {
   "cell_type": "code",
   "execution_count": 5,
   "id": "ba1a83a43de008f6",
   "metadata": {
    "ExecuteTime": {
     "end_time": "2024-02-06T04:25:31.307018Z",
     "start_time": "2024-02-06T04:25:31.293855Z"
    },
    "collapsed": false
   },
   "outputs": [
    {
     "data": {
      "text/plain": [
       "Index(['Airline', 'Date_of_Journey', 'Source', 'Destination', 'Route',\n",
       "       'Dep_Time', 'Arrival_Time', 'Duration', 'Total_Stops',\n",
       "       'Additional_Info', 'Price'],\n",
       "      dtype='object')"
      ]
     },
     "execution_count": 5,
     "metadata": {},
     "output_type": "execute_result"
    }
   ],
   "source": [
    "df.columns"
   ]
  },
  {
   "cell_type": "markdown",
   "id": "85f8483de2b11d30",
   "metadata": {
    "collapsed": false
   },
   "source": [
    "## Counting the number of null values in each column"
   ]
  },
  {
   "cell_type": "code",
   "execution_count": 6,
   "id": "4265002f942e4db2",
   "metadata": {
    "ExecuteTime": {
     "end_time": "2024-02-06T04:25:31.742873500Z",
     "start_time": "2024-02-06T04:25:31.717560Z"
    },
    "collapsed": false
   },
   "outputs": [
    {
     "data": {
      "text/plain": [
       "Airline            427\n",
       "Date_of_Journey    322\n",
       "Source             187\n",
       "Destination        347\n",
       "Route              256\n",
       "Dep_Time           260\n",
       "Arrival_Time       194\n",
       "Duration           214\n",
       "Total_Stops        212\n",
       "Additional_Info    589\n",
       "Price              616\n",
       "dtype: int64"
      ]
     },
     "execution_count": 6,
     "metadata": {},
     "output_type": "execute_result"
    }
   ],
   "source": [
    "null_count = df.isnull().sum()\n",
    "null_count"
   ]
  },
  {
   "cell_type": "markdown",
   "id": "46e07e89ab9ea73d",
   "metadata": {
    "collapsed": false
   },
   "source": [
    "## Importing Matplotlib for data visualization"
   ]
  },
  {
   "cell_type": "code",
   "execution_count": 7,
   "id": "71747397d07e184b",
   "metadata": {
    "ExecuteTime": {
     "end_time": "2024-02-06T04:25:34.159374300Z",
     "start_time": "2024-02-06T04:25:32.152113500Z"
    },
    "collapsed": false
   },
   "outputs": [],
   "source": [
    "import matplotlib.pyplot as plt"
   ]
  },
  {
   "cell_type": "markdown",
   "id": "c90df071b553f8a1",
   "metadata": {
    "collapsed": false
   },
   "source": [
    "## Creating a plot to visualize the distribution of null values in each column"
   ]
  },
  {
   "cell_type": "code",
   "execution_count": 19,
   "id": "c42e1b6a731d2978",
   "metadata": {
    "ExecuteTime": {
     "end_time": "2024-02-06T04:25:34.555626200Z",
     "start_time": "2024-02-06T04:25:34.161471700Z"
    },
    "collapsed": false
   },
   "outputs": [
    {
     "data": {
      "text/plain": [
       "[<matplotlib.lines.Line2D at 0x189017821d0>]"
      ]
     },
     "execution_count": 19,
     "metadata": {},
     "output_type": "execute_result"
    },
    {
     "data": {
      "image/png": "[encoded data removed]",
      "text/plain": [
       "<Figure size 1200x400 with 1 Axes>"
      ]
     },
     "metadata": {},
     "output_type": "display_data"
    }
   ],
   "source": [
    "plt.figure(figsize=(12, 4))\n",
    "plt.plot(null_count)"
   ]
  },
  {
   "cell_type": "markdown",
   "id": "c2ff68997009b913",
   "metadata": {
    "collapsed": false
   },
   "source": [
    "## Check for outliers in numerical columns"
   ]
  },
  {
   "cell_type": "code",
   "execution_count": 9,
   "id": "c51659a6af72d516",
   "metadata": {
    "ExecuteTime": {
     "end_time": "2024-02-06T04:25:34.567866100Z",
     "start_time": "2024-02-06T04:25:34.557141300Z"
    },
    "collapsed": false
   },
   "outputs": [
    {
     "data": {
      "text/html": [
       "<div>\n",
       "<style scoped>\n",
       "    .dataframe tbody tr th:only-of-type {\n",
       "        vertical-align: middle;\n",
       "    }\n",
       "\n",
       "    .dataframe tbody tr th {\n",
       "        vertical-align: top;\n",
       "    }\n",
       "\n",
       "    .dataframe thead th {\n",
       "        text-align: right;\n",
       "    }\n",
       "</style>\n",
       "<table border=\"1\" class=\"dataframe\">\n",
       "  <thead>\n",
       "    <tr style=\"text-align: right;\">\n",
       "      <th></th>\n",
       "      <th>Price</th>\n",
       "    </tr>\n",
       "  </thead>\n",
       "  <tbody>\n",
       "    <tr>\n",
       "      <th>count</th>\n",
       "      <td>10044.000000</td>\n",
       "    </tr>\n",
       "    <tr>\n",
       "      <th>mean</th>\n",
       "      <td>9044.411191</td>\n",
       "    </tr>\n",
       "    <tr>\n",
       "      <th>std</th>\n",
       "      <td>4472.304869</td>\n",
       "    </tr>\n",
       "    <tr>\n",
       "      <th>min</th>\n",
       "      <td>1759.000000</td>\n",
       "    </tr>\n",
       "    <tr>\n",
       "      <th>25%</th>\n",
       "      <td>5276.750000</td>\n",
       "    </tr>\n",
       "    <tr>\n",
       "      <th>50%</th>\n",
       "      <td>8366.000000</td>\n",
       "    </tr>\n",
       "    <tr>\n",
       "      <th>75%</th>\n",
       "      <td>12373.000000</td>\n",
       "    </tr>\n",
       "    <tr>\n",
       "      <th>max</th>\n",
       "      <td>54826.000000</td>\n",
       "    </tr>\n",
       "  </tbody>\n",
       "</table>\n",
       "</div>"
      ],
      "text/plain": [
       "              Price\n",
       "count  10044.000000\n",
       "mean    9044.411191\n",
       "std     4472.304869\n",
       "min     1759.000000\n",
       "25%     5276.750000\n",
       "50%     8366.000000\n",
       "75%    12373.000000\n",
       "max    54826.000000"
      ]
     },
     "execution_count": 9,
     "metadata": {},
     "output_type": "execute_result"
    }
   ],
   "source": [
    "num_cols = df.select_dtypes(include=['number'])\n",
    "num_cols.describe()"
   ]
  },
  {
   "cell_type": "markdown",
   "id": "d44880c53901fbb0",
   "metadata": {
    "collapsed": false
   },
   "source": [
    "## Summarizing the dataset statistics"
   ]
  },
  {
   "cell_type": "code",
   "execution_count": 10,
   "id": "9b2fcb05e974efd8",
   "metadata": {
    "ExecuteTime": {
     "end_time": "2024-02-06T04:25:34.634192Z",
     "start_time": "2024-02-06T04:25:34.570354500Z"
    },
    "collapsed": false
   },
   "outputs": [
    {
     "name": "stdout",
     "output_type": "stream",
     "text": [
      "Summary Statistics:\n",
      "               Price\n",
      "count  10044.000000\n",
      "mean    9044.411191\n",
      "std     4472.304869\n",
      "min     1759.000000\n",
      "25%     5276.750000\n",
      "50%     8366.000000\n",
      "75%    12373.000000\n",
      "max    54826.000000\n"
     ]
    }
   ],
   "source": [
    "summary_stats = df.describe()\n",
    "print(\"Summary Statistics:\\n\", summary_stats)"
   ]
  },
  {
   "cell_type": "markdown",
   "id": "36810af7aa5b9412",
   "metadata": {
    "collapsed": false
   },
   "source": [
    "## Calculating correlation matrix for numerical columns"
   ]
  },
  {
   "cell_type": "code",
   "execution_count": 11,
   "id": "679081f8601ec84a",
   "metadata": {
    "ExecuteTime": {
     "end_time": "2024-02-06T04:25:34.827818100Z",
     "start_time": "2024-02-06T04:25:34.808280800Z"
    },
    "collapsed": false
   },
   "outputs": [
    {
     "data": {
      "text/html": [
       "<div>\n",
       "<style scoped>\n",
       "    .dataframe tbody tr th:only-of-type {\n",
       "        vertical-align: middle;\n",
       "    }\n",
       "\n",
       "    .dataframe tbody tr th {\n",
       "        vertical-align: top;\n",
       "    }\n",
       "\n",
       "    .dataframe thead th {\n",
       "        text-align: right;\n",
       "    }\n",
       "</style>\n",
       "<table border=\"1\" class=\"dataframe\">\n",
       "  <thead>\n",
       "    <tr style=\"text-align: right;\">\n",
       "      <th></th>\n",
       "      <th>Price</th>\n",
       "    </tr>\n",
       "  </thead>\n",
       "  <tbody>\n",
       "    <tr>\n",
       "      <th>Price</th>\n",
       "      <td>1.0</td>\n",
       "    </tr>\n",
       "  </tbody>\n",
       "</table>\n",
       "</div>"
      ],
      "text/plain": [
       "       Price\n",
       "Price    1.0"
      ]
     },
     "execution_count": 11,
     "metadata": {},
     "output_type": "execute_result"
    }
   ],
   "source": [
    "numeric_columns = df.select_dtypes(include=['number'])\n",
    "correlation_matrix = numeric_columns.corr()\n",
    "correlation_matrix"
   ]
  },
  {
   "cell_type": "markdown",
   "id": "57fe81cf19dce6bb",
   "metadata": {
    "collapsed": false
   },
   "source": [
    "## Splitting the dataset into Train and Test sets"
   ]
  },
  {
   "cell_type": "code",
   "execution_count": 12,
   "id": "47579533898d257",
   "metadata": {
    "ExecuteTime": {
     "end_time": "2024-02-06T04:25:57.241085300Z",
     "start_time": "2024-02-06T04:25:56.444680100Z"
    },
    "collapsed": false
   },
   "outputs": [],
   "source": [
    "from sklearn.model_selection import train_test_split\n",
    "\n",
    "X = df.drop('Price', axis=1)\n",
    "y = df['Price']\n",
    "\n",
    "X_train, X_test, y_train, y_test = train_test_split(X, y, test_size=0.2, random_state=42)"
   ]
  },
  {
   "cell_type": "code",
   "execution_count": 13,
   "id": "bbbdf01e26b74517",
   "metadata": {
    "ExecuteTime": {
     "end_time": "2024-02-06T04:25:58.091617700Z",
     "start_time": "2024-02-06T04:25:58.075784600Z"
    },
    "collapsed": false
   },
   "outputs": [
    {
     "data": {
      "text/html": [
       "<div>\n",
       "<style scoped>\n",
       "    .dataframe tbody tr th:only-of-type {\n",
       "        vertical-align: middle;\n",
       "    }\n",
       "\n",
       "    .dataframe tbody tr th {\n",
       "        vertical-align: top;\n",
       "    }\n",
       "\n",
       "    .dataframe thead th {\n",
       "        text-align: right;\n",
       "    }\n",
       "</style>\n",
       "<table border=\"1\" class=\"dataframe\">\n",
       "  <thead>\n",
       "    <tr style=\"text-align: right;\">\n",
       "      <th></th>\n",
       "      <th>Airline</th>\n",
       "      <th>Date_of_Journey</th>\n",
       "      <th>Source</th>\n",
       "      <th>Destination</th>\n",
       "      <th>Route</th>\n",
       "      <th>Dep_Time</th>\n",
       "      <th>Arrival_Time</th>\n",
       "      <th>Duration</th>\n",
       "      <th>Total_Stops</th>\n",
       "      <th>Additional_Info</th>\n",
       "    </tr>\n",
       "  </thead>\n",
       "  <tbody>\n",
       "    <tr>\n",
       "      <th>9791</th>\n",
       "      <td>Jet Airways</td>\n",
       "      <td>21/05/2019</td>\n",
       "      <td>Kolkata</td>\n",
       "      <td>NaN</td>\n",
       "      <td>CCU → BOM → BLR</td>\n",
       "      <td>16:30</td>\n",
       "      <td>22:35</td>\n",
       "      <td>6h 5m</td>\n",
       "      <td>1 stop</td>\n",
       "      <td>No info</td>\n",
       "    </tr>\n",
       "    <tr>\n",
       "      <th>6785</th>\n",
       "      <td>Vistara</td>\n",
       "      <td>6/04/2019</td>\n",
       "      <td>Banglore</td>\n",
       "      <td>Delhi</td>\n",
       "      <td>BLR → DEL</td>\n",
       "      <td>19:30</td>\n",
       "      <td>22:15</td>\n",
       "      <td>2h 45m</td>\n",
       "      <td>non-stop</td>\n",
       "      <td>No info</td>\n",
       "    </tr>\n",
       "    <tr>\n",
       "      <th>2236</th>\n",
       "      <td>Jet Airways</td>\n",
       "      <td>12/05/2019</td>\n",
       "      <td>Kolkata</td>\n",
       "      <td>Banglore</td>\n",
       "      <td>CCU → DEL → BLR</td>\n",
       "      <td>09:35</td>\n",
       "      <td>23:35</td>\n",
       "      <td>14h</td>\n",
       "      <td>1 stop</td>\n",
       "      <td>No info</td>\n",
       "    </tr>\n",
       "    <tr>\n",
       "      <th>3037</th>\n",
       "      <td>Multiple carriers</td>\n",
       "      <td>9/04/2019</td>\n",
       "      <td>Delhi</td>\n",
       "      <td>Cochin</td>\n",
       "      <td>DEL → BOM → COK</td>\n",
       "      <td>10:35</td>\n",
       "      <td>19:15</td>\n",
       "      <td>8h 40m</td>\n",
       "      <td>1 stop</td>\n",
       "      <td>No info</td>\n",
       "    </tr>\n",
       "    <tr>\n",
       "      <th>4863</th>\n",
       "      <td>Jet Airways</td>\n",
       "      <td>12/06/2019</td>\n",
       "      <td>Delhi</td>\n",
       "      <td>Cochin</td>\n",
       "      <td>DEL → JAI → BOM → COK</td>\n",
       "      <td>19:30</td>\n",
       "      <td>12:35 13 Jun</td>\n",
       "      <td>NaN</td>\n",
       "      <td>2 stops</td>\n",
       "      <td>In-flight meal not included</td>\n",
       "    </tr>\n",
       "    <tr>\n",
       "      <th>...</th>\n",
       "      <td>...</td>\n",
       "      <td>...</td>\n",
       "      <td>...</td>\n",
       "      <td>...</td>\n",
       "      <td>...</td>\n",
       "      <td>...</td>\n",
       "      <td>...</td>\n",
       "      <td>...</td>\n",
       "      <td>...</td>\n",
       "      <td>...</td>\n",
       "    </tr>\n",
       "    <tr>\n",
       "      <th>5734</th>\n",
       "      <td>IndiGo</td>\n",
       "      <td>27/05/2019</td>\n",
       "      <td>Delhi</td>\n",
       "      <td>Cochin</td>\n",
       "      <td>DEL → BOM → COK</td>\n",
       "      <td>04:55</td>\n",
       "      <td>21:00</td>\n",
       "      <td>16h 5m</td>\n",
       "      <td>1 stop</td>\n",
       "      <td>No info</td>\n",
       "    </tr>\n",
       "    <tr>\n",
       "      <th>5191</th>\n",
       "      <td>Multiple carriers</td>\n",
       "      <td>15/06/2019</td>\n",
       "      <td>Delhi</td>\n",
       "      <td>Cochin</td>\n",
       "      <td>DEL → BOM → COK</td>\n",
       "      <td>04:55</td>\n",
       "      <td>19:00</td>\n",
       "      <td>14h 5m</td>\n",
       "      <td>1 stop</td>\n",
       "      <td>No info</td>\n",
       "    </tr>\n",
       "    <tr>\n",
       "      <th>5390</th>\n",
       "      <td>NaN</td>\n",
       "      <td>9/06/2019</td>\n",
       "      <td>Delhi</td>\n",
       "      <td>Cochin</td>\n",
       "      <td>DEL → AMD → BOM → COK</td>\n",
       "      <td>19:45</td>\n",
       "      <td>19:15 10 Jun</td>\n",
       "      <td>23h 30m</td>\n",
       "      <td>2 stops</td>\n",
       "      <td>No info</td>\n",
       "    </tr>\n",
       "    <tr>\n",
       "      <th>860</th>\n",
       "      <td>Air India</td>\n",
       "      <td>9/05/2019</td>\n",
       "      <td>Delhi</td>\n",
       "      <td>Cochin</td>\n",
       "      <td>DEL → HYD → MAA → COK</td>\n",
       "      <td>07:05</td>\n",
       "      <td>09:25 10 May</td>\n",
       "      <td>26h 20m</td>\n",
       "      <td>2 stops</td>\n",
       "      <td>No info</td>\n",
       "    </tr>\n",
       "    <tr>\n",
       "      <th>7270</th>\n",
       "      <td>Air India</td>\n",
       "      <td>6/05/2019</td>\n",
       "      <td>Kolkata</td>\n",
       "      <td>Banglore</td>\n",
       "      <td>CCU → BBI → BOM → BLR</td>\n",
       "      <td>12:00</td>\n",
       "      <td>11:10 07 May</td>\n",
       "      <td>23h 10m</td>\n",
       "      <td>2 stops</td>\n",
       "      <td>No info</td>\n",
       "    </tr>\n",
       "  </tbody>\n",
       "</table>\n",
       "<p>8528 rows × 10 columns</p>\n",
       "</div>"
      ],
      "text/plain": [
       "                Airline Date_of_Journey    Source Destination  \\\n",
       "9791        Jet Airways      21/05/2019   Kolkata         NaN   \n",
       "6785            Vistara       6/04/2019  Banglore       Delhi   \n",
       "2236        Jet Airways      12/05/2019   Kolkata    Banglore   \n",
       "3037  Multiple carriers       9/04/2019     Delhi      Cochin   \n",
       "4863        Jet Airways      12/06/2019     Delhi      Cochin   \n",
       "...                 ...             ...       ...         ...   \n",
       "5734             IndiGo      27/05/2019     Delhi      Cochin   \n",
       "5191  Multiple carriers      15/06/2019     Delhi      Cochin   \n",
       "5390                NaN       9/06/2019     Delhi      Cochin   \n",
       "860           Air India       9/05/2019     Delhi      Cochin   \n",
       "7270          Air India       6/05/2019   Kolkata    Banglore   \n",
       "\n",
       "                      Route Dep_Time  Arrival_Time Duration Total_Stops  \\\n",
       "9791        CCU → BOM → BLR    16:30         22:35    6h 5m      1 stop   \n",
       "6785              BLR → DEL    19:30         22:15   2h 45m    non-stop   \n",
       "2236        CCU → DEL → BLR    09:35         23:35      14h      1 stop   \n",
       "3037        DEL → BOM → COK    10:35         19:15   8h 40m      1 stop   \n",
       "4863  DEL → JAI → BOM → COK    19:30  12:35 13 Jun      NaN     2 stops   \n",
       "...                     ...      ...           ...      ...         ...   \n",
       "5734        DEL → BOM → COK    04:55         21:00   16h 5m      1 stop   \n",
       "5191        DEL → BOM → COK    04:55         19:00   14h 5m      1 stop   \n",
       "5390  DEL → AMD → BOM → COK    19:45  19:15 10 Jun  23h 30m     2 stops   \n",
       "860   DEL → HYD → MAA → COK    07:05  09:25 10 May  26h 20m     2 stops   \n",
       "7270  CCU → BBI → BOM → BLR    12:00  11:10 07 May  23h 10m     2 stops   \n",
       "\n",
       "                  Additional_Info  \n",
       "9791                      No info  \n",
       "6785                      No info  \n",
       "2236                      No info  \n",
       "3037                      No info  \n",
       "4863  In-flight meal not included  \n",
       "...                           ...  \n",
       "5734                      No info  \n",
       "5191                      No info  \n",
       "5390                      No info  \n",
       "860                       No info  \n",
       "7270                      No info  \n",
       "\n",
       "[8528 rows x 10 columns]"
      ]
     },
     "execution_count": 13,
     "metadata": {},
     "output_type": "execute_result"
    }
   ],
   "source": [
    "X_train"
   ]
  },
  {
   "cell_type": "code",
   "execution_count": 14,
   "id": "83b43b822595c9f6",
   "metadata": {
    "ExecuteTime": {
     "end_time": "2024-02-06T04:25:58.830137100Z",
     "start_time": "2024-02-06T04:25:58.784586300Z"
    },
    "collapsed": false
   },
   "outputs": [
    {
     "data": {
      "text/html": [
       "<div>\n",
       "<style scoped>\n",
       "    .dataframe tbody tr th:only-of-type {\n",
       "        vertical-align: middle;\n",
       "    }\n",
       "\n",
       "    .dataframe tbody tr th {\n",
       "        vertical-align: top;\n",
       "    }\n",
       "\n",
       "    .dataframe thead th {\n",
       "        text-align: right;\n",
       "    }\n",
       "</style>\n",
       "<table border=\"1\" class=\"dataframe\">\n",
       "  <thead>\n",
       "    <tr style=\"text-align: right;\">\n",
       "      <th></th>\n",
       "      <th>Airline</th>\n",
       "      <th>Date_of_Journey</th>\n",
       "      <th>Source</th>\n",
       "      <th>Destination</th>\n",
       "      <th>Route</th>\n",
       "      <th>Dep_Time</th>\n",
       "      <th>Arrival_Time</th>\n",
       "      <th>Duration</th>\n",
       "      <th>Total_Stops</th>\n",
       "      <th>Additional_Info</th>\n",
       "    </tr>\n",
       "  </thead>\n",
       "  <tbody>\n",
       "    <tr>\n",
       "      <th>7571</th>\n",
       "      <td>Air India</td>\n",
       "      <td>9/06/2019</td>\n",
       "      <td>Kolkata</td>\n",
       "      <td>Banglore</td>\n",
       "      <td>CCU → MAA → BLR</td>\n",
       "      <td>14:35</td>\n",
       "      <td>14:35 10 Jun</td>\n",
       "      <td>24h</td>\n",
       "      <td>1 stop</td>\n",
       "      <td>No info</td>\n",
       "    </tr>\n",
       "    <tr>\n",
       "      <th>5020</th>\n",
       "      <td>Air India</td>\n",
       "      <td>27/04/2019</td>\n",
       "      <td>Delhi</td>\n",
       "      <td>Cochin</td>\n",
       "      <td>DEL → COK</td>\n",
       "      <td>18:05</td>\n",
       "      <td>21:10</td>\n",
       "      <td>3h 5m</td>\n",
       "      <td>non-stop</td>\n",
       "      <td>No info</td>\n",
       "    </tr>\n",
       "    <tr>\n",
       "      <th>3404</th>\n",
       "      <td>SpiceJet</td>\n",
       "      <td>6/06/2019</td>\n",
       "      <td>Banglore</td>\n",
       "      <td>Delhi</td>\n",
       "      <td>BLR → DEL</td>\n",
       "      <td>05:55</td>\n",
       "      <td>08:35</td>\n",
       "      <td>2h 40m</td>\n",
       "      <td>non-stop</td>\n",
       "      <td>No info</td>\n",
       "    </tr>\n",
       "    <tr>\n",
       "      <th>8365</th>\n",
       "      <td>Air India</td>\n",
       "      <td>15/05/2019</td>\n",
       "      <td>Delhi</td>\n",
       "      <td>Cochin</td>\n",
       "      <td>DEL → GOI → BOM → COK</td>\n",
       "      <td>22:00</td>\n",
       "      <td>19:15 16 May</td>\n",
       "      <td>21h 15m</td>\n",
       "      <td>2 stops</td>\n",
       "      <td>No info</td>\n",
       "    </tr>\n",
       "    <tr>\n",
       "      <th>3145</th>\n",
       "      <td>Multiple carriers</td>\n",
       "      <td>9/06/2019</td>\n",
       "      <td>Delhi</td>\n",
       "      <td>Cochin</td>\n",
       "      <td>DEL → BOM → COK</td>\n",
       "      <td>13:00</td>\n",
       "      <td>21:00</td>\n",
       "      <td>8h</td>\n",
       "      <td>1 stop</td>\n",
       "      <td>No info</td>\n",
       "    </tr>\n",
       "    <tr>\n",
       "      <th>...</th>\n",
       "      <td>...</td>\n",
       "      <td>...</td>\n",
       "      <td>...</td>\n",
       "      <td>...</td>\n",
       "      <td>...</td>\n",
       "      <td>...</td>\n",
       "      <td>...</td>\n",
       "      <td>...</td>\n",
       "      <td>...</td>\n",
       "      <td>...</td>\n",
       "    </tr>\n",
       "    <tr>\n",
       "      <th>3646</th>\n",
       "      <td>IndiGo</td>\n",
       "      <td>24/06/2019</td>\n",
       "      <td>Mumbai</td>\n",
       "      <td>Hyderabad</td>\n",
       "      <td>BOM → HYD</td>\n",
       "      <td>09:10</td>\n",
       "      <td>10:40</td>\n",
       "      <td>1h 30m</td>\n",
       "      <td>non-stop</td>\n",
       "      <td>No info</td>\n",
       "    </tr>\n",
       "    <tr>\n",
       "      <th>8401</th>\n",
       "      <td>Air India</td>\n",
       "      <td>21/03/2019</td>\n",
       "      <td>Delhi</td>\n",
       "      <td>Cochin</td>\n",
       "      <td>DEL → BOM → COK</td>\n",
       "      <td>07:00</td>\n",
       "      <td>19:15</td>\n",
       "      <td>12h 15m</td>\n",
       "      <td>NaN</td>\n",
       "      <td>No info</td>\n",
       "    </tr>\n",
       "    <tr>\n",
       "      <th>10271</th>\n",
       "      <td>Jet Airways</td>\n",
       "      <td>27/03/2019</td>\n",
       "      <td>Delhi</td>\n",
       "      <td>Cochin</td>\n",
       "      <td>DEL → BOM → COK</td>\n",
       "      <td>21:50</td>\n",
       "      <td>04:25 28 Mar</td>\n",
       "      <td>6h 35m</td>\n",
       "      <td>1 stop</td>\n",
       "      <td>No info</td>\n",
       "    </tr>\n",
       "    <tr>\n",
       "      <th>9040</th>\n",
       "      <td>Multiple carriers</td>\n",
       "      <td>6/06/2019</td>\n",
       "      <td>Delhi</td>\n",
       "      <td>Cochin</td>\n",
       "      <td>DEL → BOM → COK</td>\n",
       "      <td>07:30</td>\n",
       "      <td>19:15</td>\n",
       "      <td>11h 45m</td>\n",
       "      <td>1 stop</td>\n",
       "      <td>No info</td>\n",
       "    </tr>\n",
       "    <tr>\n",
       "      <th>10567</th>\n",
       "      <td>Air Asia</td>\n",
       "      <td>24/03/2019</td>\n",
       "      <td>Banglore</td>\n",
       "      <td>New Delhi</td>\n",
       "      <td>BLR → DEL</td>\n",
       "      <td>23:25</td>\n",
       "      <td>02:10 22 Mar</td>\n",
       "      <td>2h 45m</td>\n",
       "      <td>non-stop</td>\n",
       "      <td>No info</td>\n",
       "    </tr>\n",
       "  </tbody>\n",
       "</table>\n",
       "<p>2132 rows × 10 columns</p>\n",
       "</div>"
      ],
      "text/plain": [
       "                 Airline Date_of_Journey    Source Destination  \\\n",
       "7571           Air India       9/06/2019   Kolkata    Banglore   \n",
       "5020           Air India      27/04/2019     Delhi      Cochin   \n",
       "3404            SpiceJet       6/06/2019  Banglore       Delhi   \n",
       "8365           Air India      15/05/2019     Delhi      Cochin   \n",
       "3145   Multiple carriers       9/06/2019     Delhi      Cochin   \n",
       "...                  ...             ...       ...         ...   \n",
       "3646              IndiGo      24/06/2019    Mumbai   Hyderabad   \n",
       "8401           Air India      21/03/2019     Delhi      Cochin   \n",
       "10271        Jet Airways      27/03/2019     Delhi      Cochin   \n",
       "9040   Multiple carriers       6/06/2019     Delhi      Cochin   \n",
       "10567           Air Asia      24/03/2019  Banglore   New Delhi   \n",
       "\n",
       "                       Route Dep_Time  Arrival_Time Duration Total_Stops  \\\n",
       "7571         CCU → MAA → BLR    14:35  14:35 10 Jun      24h      1 stop   \n",
       "5020               DEL → COK    18:05         21:10    3h 5m    non-stop   \n",
       "3404               BLR → DEL    05:55         08:35   2h 40m    non-stop   \n",
       "8365   DEL → GOI → BOM → COK    22:00  19:15 16 May  21h 15m     2 stops   \n",
       "3145         DEL → BOM → COK    13:00         21:00       8h      1 stop   \n",
       "...                      ...      ...           ...      ...         ...   \n",
       "3646               BOM → HYD    09:10         10:40   1h 30m    non-stop   \n",
       "8401         DEL → BOM → COK    07:00         19:15  12h 15m         NaN   \n",
       "10271        DEL → BOM → COK    21:50  04:25 28 Mar   6h 35m      1 stop   \n",
       "9040         DEL → BOM → COK    07:30         19:15  11h 45m      1 stop   \n",
       "10567              BLR → DEL    23:25  02:10 22 Mar   2h 45m    non-stop   \n",
       "\n",
       "      Additional_Info  \n",
       "7571          No info  \n",
       "5020          No info  \n",
       "3404          No info  \n",
       "8365          No info  \n",
       "3145          No info  \n",
       "...               ...  \n",
       "3646          No info  \n",
       "8401          No info  \n",
       "10271         No info  \n",
       "9040          No info  \n",
       "10567         No info  \n",
       "\n",
       "[2132 rows x 10 columns]"
      ]
     },
     "execution_count": 14,
     "metadata": {},
     "output_type": "execute_result"
    }
   ],
   "source": [
    "X_test"
   ]
  },
  {
   "cell_type": "code",
   "execution_count": 15,
   "id": "bf9ea4aa69e53f98",
   "metadata": {
    "ExecuteTime": {
     "end_time": "2024-02-06T04:25:59.334644800Z",
     "start_time": "2024-02-06T04:25:59.315836200Z"
    },
    "collapsed": false
   },
   "outputs": [
    {
     "data": {
      "text/plain": [
       "9791    14781.0\n",
       "6785     5613.0\n",
       "2236    14151.0\n",
       "3037     6106.0\n",
       "4863    10368.0\n",
       "         ...   \n",
       "5734     8784.0\n",
       "5191    10678.0\n",
       "5390     9968.0\n",
       "860      9347.0\n",
       "7270    10676.0\n",
       "Name: Price, Length: 8528, dtype: float64"
      ]
     },
     "execution_count": 15,
     "metadata": {},
     "output_type": "execute_result"
    }
   ],
   "source": [
    "y_train"
   ]
  },
  {
   "cell_type": "code",
   "execution_count": 16,
   "id": "2abd979cfe8cfd85",
   "metadata": {
    "ExecuteTime": {
     "end_time": "2024-02-06T04:26:00.187068800Z",
     "start_time": "2024-02-06T04:26:00.097189Z"
    },
    "collapsed": false
   },
   "outputs": [
    {
     "data": {
      "text/plain": [
       "7571      6528.0\n",
       "5020      5411.0\n",
       "3404      3625.0\n",
       "8365     11281.0\n",
       "3145      7408.0\n",
       "          ...   \n",
       "3646      4049.0\n",
       "8401         NaN\n",
       "10271    12242.0\n",
       "9040      7354.0\n",
       "10567     3383.0\n",
       "Name: Price, Length: 2132, dtype: float64"
      ]
     },
     "execution_count": 16,
     "metadata": {},
     "output_type": "execute_result"
    }
   ],
   "source": [
    "y_test"
   ]
  }
 ],
 "metadata": {
  "kernelspec": {
   "display_name": "Python 3 (ipykernel)",
   "language": "python",
   "name": "python3"
  },
  "language_info": {
   "codemirror_mode": {
    "name": "ipython",
    "version": 3
   },
   "file_extension": ".py",
   "mimetype": "text/x-python",
   "name": "python",
   "nbconvert_exporter": "python",
   "pygments_lexer": "ipython3",
   "version": "3.10.13"
  }
 },
 "nbformat": 4,
 "nbformat_minor": 5
}
