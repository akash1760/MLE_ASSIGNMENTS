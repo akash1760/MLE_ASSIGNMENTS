{
 "cells": [
  {
   "cell_type": "markdown",
   "id": "9ca82ce278a53d7",
   "metadata": {
    "collapsed": false
   },
   "source": [
    "## Importing necessary libraries"
   ]
  },
  {
   "cell_type": "code",
   "execution_count": 4,
   "id": "127dc40edc2b5e1c",
   "metadata": {
    "ExecuteTime": {
     "end_time": "2024-02-06T04:28:41.741475300Z",
     "start_time": "2024-02-06T04:28:41.277829200Z"
    },
    "collapsed": false
   },
   "outputs": [],
   "source": [
    "import numpy as np\n",
    "import pandas as pd"
   ]
  },
  {
   "cell_type": "markdown",
   "id": "27a54a1779e53fac",
   "metadata": {
    "collapsed": false
   },
   "source": [
    "## Loading the dataset"
   ]
  },
  {
   "cell_type": "code",
   "execution_count": 5,
   "id": "4c594c8ddb29cc74",
   "metadata": {
    "ExecuteTime": {
     "end_time": "2024-02-06T04:28:41.814274700Z",
     "start_time": "2024-02-06T04:28:41.744521200Z"
    },
    "collapsed": false
   },
   "outputs": [],
   "source": [
    "df = pd.read_csv(\"salaries_clean.csv\")"
   ]
  },
  {
   "cell_type": "markdown",
   "id": "2f3bcbc067d1e826",
   "metadata": {
    "collapsed": false
   },
   "source": [
    "## Displaying the entire dataset"
   ]
  },
  {
   "cell_type": "code",
   "execution_count": 6,
   "id": "93cdc16ab920eca4",
   "metadata": {
    "ExecuteTime": {
     "end_time": "2024-02-06T04:28:41.849039700Z",
     "start_time": "2024-02-06T04:28:41.769692300Z"
    },
    "collapsed": false
   },
   "outputs": [
    {
     "data": {
      "text/html": [
       "<div>\n",
       "<style scoped>\n",
       "    .dataframe tbody tr th:only-of-type {\n",
       "        vertical-align: middle;\n",
       "    }\n",
       "\n",
       "    .dataframe tbody tr th {\n",
       "        vertical-align: top;\n",
       "    }\n",
       "\n",
       "    .dataframe thead th {\n",
       "        text-align: right;\n",
       "    }\n",
       "</style>\n",
       "<table border=\"1\" class=\"dataframe\">\n",
       "  <thead>\n",
       "    <tr style=\"text-align: right;\">\n",
       "      <th></th>\n",
       "      <th>Working_Year</th>\n",
       "      <th>Designation</th>\n",
       "      <th>Experience</th>\n",
       "      <th>Employment_Status</th>\n",
       "      <th>Employee_Location</th>\n",
       "      <th>Company_Size</th>\n",
       "      <th>Remote_Working_Ratio</th>\n",
       "      <th>Salary_USD</th>\n",
       "    </tr>\n",
       "  </thead>\n",
       "  <tbody>\n",
       "    <tr>\n",
       "      <th>0</th>\n",
       "      <td>2020</td>\n",
       "      <td>Data Scientist</td>\n",
       "      <td>Mid</td>\n",
       "      <td>FT</td>\n",
       "      <td>DE</td>\n",
       "      <td>L</td>\n",
       "      <td>0</td>\n",
       "      <td>76227.0</td>\n",
       "    </tr>\n",
       "    <tr>\n",
       "      <th>1</th>\n",
       "      <td>2020</td>\n",
       "      <td>Machine Learning Scientist</td>\n",
       "      <td>Senior</td>\n",
       "      <td>FT</td>\n",
       "      <td>JP</td>\n",
       "      <td>S</td>\n",
       "      <td>0</td>\n",
       "      <td>248257.0</td>\n",
       "    </tr>\n",
       "    <tr>\n",
       "      <th>2</th>\n",
       "      <td>2020</td>\n",
       "      <td>Big Data Engineer</td>\n",
       "      <td>Senior</td>\n",
       "      <td>FT</td>\n",
       "      <td>GB</td>\n",
       "      <td>M</td>\n",
       "      <td>50</td>\n",
       "      <td>104100.0</td>\n",
       "    </tr>\n",
       "    <tr>\n",
       "      <th>3</th>\n",
       "      <td>2020</td>\n",
       "      <td>Product Data Analyst</td>\n",
       "      <td>Mid</td>\n",
       "      <td>FT</td>\n",
       "      <td>HN</td>\n",
       "      <td>S</td>\n",
       "      <td>0</td>\n",
       "      <td>19097.0</td>\n",
       "    </tr>\n",
       "    <tr>\n",
       "      <th>4</th>\n",
       "      <td>2020</td>\n",
       "      <td>Machine Learning Engineer</td>\n",
       "      <td>Senior</td>\n",
       "      <td>FT</td>\n",
       "      <td>US</td>\n",
       "      <td>L</td>\n",
       "      <td>50</td>\n",
       "      <td>143225.0</td>\n",
       "    </tr>\n",
       "    <tr>\n",
       "      <th>...</th>\n",
       "      <td>...</td>\n",
       "      <td>...</td>\n",
       "      <td>...</td>\n",
       "      <td>...</td>\n",
       "      <td>...</td>\n",
       "      <td>...</td>\n",
       "      <td>...</td>\n",
       "      <td>...</td>\n",
       "    </tr>\n",
       "    <tr>\n",
       "      <th>602</th>\n",
       "      <td>2022</td>\n",
       "      <td>Data Engineer</td>\n",
       "      <td>Senior</td>\n",
       "      <td>FT</td>\n",
       "      <td>US</td>\n",
       "      <td>M</td>\n",
       "      <td>100</td>\n",
       "      <td>147044.0</td>\n",
       "    </tr>\n",
       "    <tr>\n",
       "      <th>603</th>\n",
       "      <td>2022</td>\n",
       "      <td>Data Engineer</td>\n",
       "      <td>Senior</td>\n",
       "      <td>FT</td>\n",
       "      <td>US</td>\n",
       "      <td>M</td>\n",
       "      <td>100</td>\n",
       "      <td>120309.0</td>\n",
       "    </tr>\n",
       "    <tr>\n",
       "      <th>604</th>\n",
       "      <td>2022</td>\n",
       "      <td>Data Analyst</td>\n",
       "      <td>Senior</td>\n",
       "      <td>FT</td>\n",
       "      <td>US</td>\n",
       "      <td>M</td>\n",
       "      <td>0</td>\n",
       "      <td>123174.0</td>\n",
       "    </tr>\n",
       "    <tr>\n",
       "      <th>605</th>\n",
       "      <td>2022</td>\n",
       "      <td>Data Analyst</td>\n",
       "      <td>Senior</td>\n",
       "      <td>FT</td>\n",
       "      <td>US</td>\n",
       "      <td>M</td>\n",
       "      <td>100</td>\n",
       "      <td>143225.0</td>\n",
       "    </tr>\n",
       "    <tr>\n",
       "      <th>606</th>\n",
       "      <td>2022</td>\n",
       "      <td>AI Scientist</td>\n",
       "      <td>Mid</td>\n",
       "      <td>FT</td>\n",
       "      <td>IN</td>\n",
       "      <td>L</td>\n",
       "      <td>100</td>\n",
       "      <td>190967.0</td>\n",
       "    </tr>\n",
       "  </tbody>\n",
       "</table>\n",
       "<p>607 rows × 8 columns</p>\n",
       "</div>"
      ],
      "text/plain": [
       "     Working_Year                 Designation Experience Employment_Status  \\\n",
       "0            2020              Data Scientist        Mid                FT   \n",
       "1            2020  Machine Learning Scientist     Senior                FT   \n",
       "2            2020           Big Data Engineer     Senior                FT   \n",
       "3            2020        Product Data Analyst        Mid                FT   \n",
       "4            2020   Machine Learning Engineer     Senior                FT   \n",
       "..            ...                         ...        ...               ...   \n",
       "602          2022               Data Engineer     Senior                FT   \n",
       "603          2022               Data Engineer     Senior                FT   \n",
       "604          2022                Data Analyst     Senior                FT   \n",
       "605          2022                Data Analyst     Senior                FT   \n",
       "606          2022                AI Scientist        Mid                FT   \n",
       "\n",
       "    Employee_Location Company_Size  Remote_Working_Ratio  Salary_USD  \n",
       "0                  DE            L                     0     76227.0  \n",
       "1                  JP            S                     0    248257.0  \n",
       "2                  GB            M                    50    104100.0  \n",
       "3                  HN            S                     0     19097.0  \n",
       "4                  US            L                    50    143225.0  \n",
       "..                ...          ...                   ...         ...  \n",
       "602                US            M                   100    147044.0  \n",
       "603                US            M                   100    120309.0  \n",
       "604                US            M                     0    123174.0  \n",
       "605                US            M                   100    143225.0  \n",
       "606                IN            L                   100    190967.0  \n",
       "\n",
       "[607 rows x 8 columns]"
      ]
     },
     "execution_count": 6,
     "metadata": {},
     "output_type": "execute_result"
    }
   ],
   "source": [
    "df"
   ]
  },
  {
   "cell_type": "markdown",
   "id": "a6c4833cfabf28cc",
   "metadata": {
    "collapsed": false
   },
   "source": [
    "## Displaying information about the dataset (data types, non-null counts, etc.)"
   ]
  },
  {
   "cell_type": "code",
   "execution_count": 7,
   "id": "f5f1f7363e8de007",
   "metadata": {
    "ExecuteTime": {
     "end_time": "2024-02-06T04:28:41.852632600Z",
     "start_time": "2024-02-06T04:28:41.787274900Z"
    },
    "collapsed": false
   },
   "outputs": [
    {
     "name": "stdout",
     "output_type": "stream",
     "text": [
      "<class 'pandas.core.frame.DataFrame'>\n",
      "RangeIndex: 607 entries, 0 to 606\n",
      "Data columns (total 8 columns):\n",
      " #   Column                Non-Null Count  Dtype  \n",
      "---  ------                --------------  -----  \n",
      " 0   Working_Year          607 non-null    int64  \n",
      " 1   Designation           607 non-null    object \n",
      " 2   Experience            607 non-null    object \n",
      " 3   Employment_Status     607 non-null    object \n",
      " 4   Employee_Location     607 non-null    object \n",
      " 5   Company_Size          607 non-null    object \n",
      " 6   Remote_Working_Ratio  607 non-null    int64  \n",
      " 7   Salary_USD            607 non-null    float64\n",
      "dtypes: float64(1), int64(2), object(5)\n",
      "memory usage: 38.1+ KB\n"
     ]
    }
   ],
   "source": [
    "df.info()"
   ]
  },
  {
   "cell_type": "markdown",
   "id": "2acea9275735fd14",
   "metadata": {
    "collapsed": false
   },
   "source": [
    "## Displaying the column names of the dataset"
   ]
  },
  {
   "cell_type": "code",
   "execution_count": 8,
   "id": "91091584ecde4378",
   "metadata": {
    "ExecuteTime": {
     "end_time": "2024-02-06T04:28:41.853631400Z",
     "start_time": "2024-02-06T04:28:41.802434Z"
    },
    "collapsed": false
   },
   "outputs": [
    {
     "data": {
      "text/plain": [
       "Index(['Working_Year', 'Designation', 'Experience', 'Employment_Status',\n",
       "       'Employee_Location', 'Company_Size', 'Remote_Working_Ratio',\n",
       "       'Salary_USD'],\n",
       "      dtype='object')"
      ]
     },
     "execution_count": 8,
     "metadata": {},
     "output_type": "execute_result"
    }
   ],
   "source": [
    "df.columns"
   ]
  },
  {
   "cell_type": "markdown",
   "id": "23cf7ea79b4f8f5b",
   "metadata": {
    "collapsed": false
   },
   "source": [
    "## Importing Matplotlib for data visualization"
   ]
  },
  {
   "cell_type": "code",
   "execution_count": 9,
   "id": "9ba15799a7249b59",
   "metadata": {
    "ExecuteTime": {
     "end_time": "2024-02-06T04:28:42.233070600Z",
     "start_time": "2024-02-06T04:28:41.811230300Z"
    },
    "collapsed": false
   },
   "outputs": [],
   "source": [
    "import matplotlib.pyplot as plt"
   ]
  },
  {
   "cell_type": "markdown",
   "id": "9aac9e46433f7dbc",
   "metadata": {
    "collapsed": false
   },
   "source": [
    "## Creating a plot to visualize the distribution of salaries"
   ]
  },
  {
   "cell_type": "code",
   "execution_count": 10,
   "id": "9b6e6314f90f6ed3",
   "metadata": {
    "ExecuteTime": {
     "end_time": "2024-02-06T04:28:42.545547300Z",
     "start_time": "2024-02-06T04:28:42.234564100Z"
    },
    "collapsed": false
   },
   "outputs": [
    {
     "data": {
      "text/plain": [
       "[<matplotlib.lines.Line2D at 0x1884cb80220>]"
      ]
     },
     "execution_count": 10,
     "metadata": {},
     "output_type": "execute_result"
    },
    {
     "data": {
      "image/png": "[encoded data removed]",
      "text/plain": [
       "<Figure size 1000x600 with 1 Axes>"
      ]
     },
     "metadata": {},
     "output_type": "display_data"
    }
   ],
   "source": [
    "plt.figure(figsize=(10, 6))\n",
    "plt.plot(df[\"Salary_USD\"])"
   ]
  },
  {
   "cell_type": "markdown",
   "id": "b0148b46d662410e",
   "metadata": {
    "collapsed": false
   },
   "source": [
    "## Check for outliers in the 'Salary_USD' column"
   ]
  },
  {
   "cell_type": "code",
   "execution_count": 14,
   "id": "a8946181f25407ac",
   "metadata": {
    "ExecuteTime": {
     "end_time": "2024-02-06T04:28:42.686535800Z",
     "start_time": "2024-02-06T04:28:42.544125400Z"
    },
    "collapsed": false
   },
   "outputs": [
    {
     "data": {
      "image/png": "[encoded data removed]",
      "text/plain": [
       "<Figure size 400x600 with 1 Axes>"
      ]
     },
     "metadata": {},
     "output_type": "display_data"
    }
   ],
   "source": [
    "plt.figure(figsize=(4, 6))\n",
    "plt.boxplot(df[\"Salary_USD\"])\n",
    "plt.title('Boxplot of Salary_USD')\n",
    "plt.show()"
   ]
  },
  {
   "cell_type": "markdown",
   "id": "c0f1955cfd3af3de",
   "metadata": {
    "collapsed": false
   },
   "source": [
    "## Summarizing the dataset statistics"
   ]
  },
  {
   "cell_type": "code",
   "execution_count": 15,
   "id": "b723ba4bf124a166",
   "metadata": {
    "ExecuteTime": {
     "end_time": "2024-02-06T04:28:42.699758600Z",
     "start_time": "2024-02-06T04:28:42.688535700Z"
    },
    "collapsed": false
   },
   "outputs": [
    {
     "data": {
      "text/html": [
       "<div>\n",
       "<style scoped>\n",
       "    .dataframe tbody tr th:only-of-type {\n",
       "        vertical-align: middle;\n",
       "    }\n",
       "\n",
       "    .dataframe tbody tr th {\n",
       "        vertical-align: top;\n",
       "    }\n",
       "\n",
       "    .dataframe thead th {\n",
       "        text-align: right;\n",
       "    }\n",
       "</style>\n",
       "<table border=\"1\" class=\"dataframe\">\n",
       "  <thead>\n",
       "    <tr style=\"text-align: right;\">\n",
       "      <th></th>\n",
       "      <th>Working_Year</th>\n",
       "      <th>Remote_Working_Ratio</th>\n",
       "      <th>Salary_USD</th>\n",
       "    </tr>\n",
       "  </thead>\n",
       "  <tbody>\n",
       "    <tr>\n",
       "      <th>count</th>\n",
       "      <td>607.000000</td>\n",
       "      <td>607.00000</td>\n",
       "      <td>607.000000</td>\n",
       "    </tr>\n",
       "    <tr>\n",
       "      <th>mean</th>\n",
       "      <td>2021.405272</td>\n",
       "      <td>70.92257</td>\n",
       "      <td>107225.836903</td>\n",
       "    </tr>\n",
       "    <tr>\n",
       "      <th>std</th>\n",
       "      <td>0.692133</td>\n",
       "      <td>40.70913</td>\n",
       "      <td>67752.393254</td>\n",
       "    </tr>\n",
       "    <tr>\n",
       "      <th>min</th>\n",
       "      <td>2020.000000</td>\n",
       "      <td>0.00000</td>\n",
       "      <td>2730.000000</td>\n",
       "    </tr>\n",
       "    <tr>\n",
       "      <th>25%</th>\n",
       "      <td>2021.000000</td>\n",
       "      <td>50.00000</td>\n",
       "      <td>59893.000000</td>\n",
       "    </tr>\n",
       "    <tr>\n",
       "      <th>50%</th>\n",
       "      <td>2022.000000</td>\n",
       "      <td>100.00000</td>\n",
       "      <td>96982.000000</td>\n",
       "    </tr>\n",
       "    <tr>\n",
       "      <th>75%</th>\n",
       "      <td>2022.000000</td>\n",
       "      <td>100.00000</td>\n",
       "      <td>143225.000000</td>\n",
       "    </tr>\n",
       "    <tr>\n",
       "      <th>max</th>\n",
       "      <td>2022.000000</td>\n",
       "      <td>100.00000</td>\n",
       "      <td>572900.000000</td>\n",
       "    </tr>\n",
       "  </tbody>\n",
       "</table>\n",
       "</div>"
      ],
      "text/plain": [
       "       Working_Year  Remote_Working_Ratio     Salary_USD\n",
       "count    607.000000             607.00000     607.000000\n",
       "mean    2021.405272              70.92257  107225.836903\n",
       "std        0.692133              40.70913   67752.393254\n",
       "min     2020.000000               0.00000    2730.000000\n",
       "25%     2021.000000              50.00000   59893.000000\n",
       "50%     2022.000000             100.00000   96982.000000\n",
       "75%     2022.000000             100.00000  143225.000000\n",
       "max     2022.000000             100.00000  572900.000000"
      ]
     },
     "execution_count": 15,
     "metadata": {},
     "output_type": "execute_result"
    }
   ],
   "source": [
    "summary_stats = df.describe()\n",
    "summary_stats"
   ]
  },
  {
   "cell_type": "markdown",
   "id": "d45766088e10d9ad",
   "metadata": {
    "collapsed": false
   },
   "source": [
    "## Calculating correlation matrix for numerical columns"
   ]
  },
  {
   "cell_type": "code",
   "execution_count": 16,
   "id": "e240d91b3e39b28c",
   "metadata": {
    "ExecuteTime": {
     "end_time": "2024-02-06T04:28:42.718582500Z",
     "start_time": "2024-02-06T04:28:42.702776100Z"
    },
    "collapsed": false
   },
   "outputs": [
    {
     "data": {
      "text/html": [
       "<div>\n",
       "<style scoped>\n",
       "    .dataframe tbody tr th:only-of-type {\n",
       "        vertical-align: middle;\n",
       "    }\n",
       "\n",
       "    .dataframe tbody tr th {\n",
       "        vertical-align: top;\n",
       "    }\n",
       "\n",
       "    .dataframe thead th {\n",
       "        text-align: right;\n",
       "    }\n",
       "</style>\n",
       "<table border=\"1\" class=\"dataframe\">\n",
       "  <thead>\n",
       "    <tr style=\"text-align: right;\">\n",
       "      <th></th>\n",
       "      <th>Working_Year</th>\n",
       "      <th>Remote_Working_Ratio</th>\n",
       "      <th>Salary_USD</th>\n",
       "    </tr>\n",
       "  </thead>\n",
       "  <tbody>\n",
       "    <tr>\n",
       "      <th>Working_Year</th>\n",
       "      <td>1.000000</td>\n",
       "      <td>0.076314</td>\n",
       "      <td>0.170493</td>\n",
       "    </tr>\n",
       "    <tr>\n",
       "      <th>Remote_Working_Ratio</th>\n",
       "      <td>0.076314</td>\n",
       "      <td>1.000000</td>\n",
       "      <td>0.132123</td>\n",
       "    </tr>\n",
       "    <tr>\n",
       "      <th>Salary_USD</th>\n",
       "      <td>0.170493</td>\n",
       "      <td>0.132123</td>\n",
       "      <td>1.000000</td>\n",
       "    </tr>\n",
       "  </tbody>\n",
       "</table>\n",
       "</div>"
      ],
      "text/plain": [
       "                      Working_Year  Remote_Working_Ratio  Salary_USD\n",
       "Working_Year              1.000000              0.076314    0.170493\n",
       "Remote_Working_Ratio      0.076314              1.000000    0.132123\n",
       "Salary_USD                0.170493              0.132123    1.000000"
      ]
     },
     "execution_count": 16,
     "metadata": {},
     "output_type": "execute_result"
    }
   ],
   "source": [
    "num_cols = df.select_dtypes(include=['number'])\n",
    "num_cols.corr()"
   ]
  },
  {
   "cell_type": "markdown",
   "id": "5d2711d054dc0e5",
   "metadata": {
    "collapsed": false
   },
   "source": [
    "## Splitting the dataset into Train and Test sets"
   ]
  },
  {
   "cell_type": "code",
   "execution_count": 17,
   "id": "de068f7444108874",
   "metadata": {
    "ExecuteTime": {
     "end_time": "2024-02-06T04:28:43.297217800Z",
     "start_time": "2024-02-06T04:28:42.712060Z"
    },
    "collapsed": false
   },
   "outputs": [],
   "source": [
    "from sklearn.model_selection import train_test_split\n",
    "\n",
    "X = df.drop('Salary_USD', axis=1)\n",
    "y = df['Salary_USD']\n",
    "\n",
    "X_train, X_test, y_train, y_test = train_test_split(X, y, test_size=0.2, random_state=42)"
   ]
  },
  {
   "cell_type": "code",
   "execution_count": 18,
   "id": "a206f0a9f261c1bf",
   "metadata": {
    "ExecuteTime": {
     "end_time": "2024-02-06T04:28:43.307302200Z",
     "start_time": "2024-02-06T04:28:43.298205900Z"
    },
    "collapsed": false
   },
   "outputs": [
    {
     "data": {
      "text/html": [
       "<div>\n",
       "<style scoped>\n",
       "    .dataframe tbody tr th:only-of-type {\n",
       "        vertical-align: middle;\n",
       "    }\n",
       "\n",
       "    .dataframe tbody tr th {\n",
       "        vertical-align: top;\n",
       "    }\n",
       "\n",
       "    .dataframe thead th {\n",
       "        text-align: right;\n",
       "    }\n",
       "</style>\n",
       "<table border=\"1\" class=\"dataframe\">\n",
       "  <thead>\n",
       "    <tr style=\"text-align: right;\">\n",
       "      <th></th>\n",
       "      <th>Working_Year</th>\n",
       "      <th>Designation</th>\n",
       "      <th>Experience</th>\n",
       "      <th>Employment_Status</th>\n",
       "      <th>Employee_Location</th>\n",
       "      <th>Company_Size</th>\n",
       "      <th>Remote_Working_Ratio</th>\n",
       "    </tr>\n",
       "  </thead>\n",
       "  <tbody>\n",
       "    <tr>\n",
       "      <th>9</th>\n",
       "      <td>2020</td>\n",
       "      <td>Lead Data Engineer</td>\n",
       "      <td>Senior</td>\n",
       "      <td>FT</td>\n",
       "      <td>NZ</td>\n",
       "      <td>S</td>\n",
       "      <td>50</td>\n",
       "    </tr>\n",
       "    <tr>\n",
       "      <th>227</th>\n",
       "      <td>2021</td>\n",
       "      <td>Data Scientist</td>\n",
       "      <td>Mid</td>\n",
       "      <td>FT</td>\n",
       "      <td>DE</td>\n",
       "      <td>L</td>\n",
       "      <td>50</td>\n",
       "    </tr>\n",
       "    <tr>\n",
       "      <th>591</th>\n",
       "      <td>2022</td>\n",
       "      <td>Data Architect</td>\n",
       "      <td>Senior</td>\n",
       "      <td>FT</td>\n",
       "      <td>US</td>\n",
       "      <td>M</td>\n",
       "      <td>100</td>\n",
       "    </tr>\n",
       "    <tr>\n",
       "      <th>516</th>\n",
       "      <td>2022</td>\n",
       "      <td>Data Science Manager</td>\n",
       "      <td>Senior</td>\n",
       "      <td>FT</td>\n",
       "      <td>US</td>\n",
       "      <td>M</td>\n",
       "      <td>100</td>\n",
       "    </tr>\n",
       "    <tr>\n",
       "      <th>132</th>\n",
       "      <td>2021</td>\n",
       "      <td>Applied Machine Learning Scientist</td>\n",
       "      <td>Mid</td>\n",
       "      <td>FT</td>\n",
       "      <td>VN</td>\n",
       "      <td>M</td>\n",
       "      <td>100</td>\n",
       "    </tr>\n",
       "    <tr>\n",
       "      <th>...</th>\n",
       "      <td>...</td>\n",
       "      <td>...</td>\n",
       "      <td>...</td>\n",
       "      <td>...</td>\n",
       "      <td>...</td>\n",
       "      <td>...</td>\n",
       "      <td>...</td>\n",
       "    </tr>\n",
       "    <tr>\n",
       "      <th>71</th>\n",
       "      <td>2020</td>\n",
       "      <td>Data Scientist</td>\n",
       "      <td>Mid</td>\n",
       "      <td>FT</td>\n",
       "      <td>FR</td>\n",
       "      <td>S</td>\n",
       "      <td>50</td>\n",
       "    </tr>\n",
       "    <tr>\n",
       "      <th>106</th>\n",
       "      <td>2021</td>\n",
       "      <td>Research Scientist</td>\n",
       "      <td>Mid</td>\n",
       "      <td>FT</td>\n",
       "      <td>CA</td>\n",
       "      <td>L</td>\n",
       "      <td>100</td>\n",
       "    </tr>\n",
       "    <tr>\n",
       "      <th>270</th>\n",
       "      <td>2021</td>\n",
       "      <td>Data Engineer</td>\n",
       "      <td>Entry</td>\n",
       "      <td>FT</td>\n",
       "      <td>US</td>\n",
       "      <td>L</td>\n",
       "      <td>100</td>\n",
       "    </tr>\n",
       "    <tr>\n",
       "      <th>435</th>\n",
       "      <td>2022</td>\n",
       "      <td>Data Engineer</td>\n",
       "      <td>Mid</td>\n",
       "      <td>FT</td>\n",
       "      <td>GB</td>\n",
       "      <td>M</td>\n",
       "      <td>100</td>\n",
       "    </tr>\n",
       "    <tr>\n",
       "      <th>102</th>\n",
       "      <td>2021</td>\n",
       "      <td>BI Data Analyst</td>\n",
       "      <td>Mid</td>\n",
       "      <td>FT</td>\n",
       "      <td>HU</td>\n",
       "      <td>L</td>\n",
       "      <td>50</td>\n",
       "    </tr>\n",
       "  </tbody>\n",
       "</table>\n",
       "<p>485 rows × 7 columns</p>\n",
       "</div>"
      ],
      "text/plain": [
       "     Working_Year                         Designation Experience  \\\n",
       "9            2020                  Lead Data Engineer     Senior   \n",
       "227          2021                      Data Scientist        Mid   \n",
       "591          2022                      Data Architect     Senior   \n",
       "516          2022                Data Science Manager     Senior   \n",
       "132          2021  Applied Machine Learning Scientist        Mid   \n",
       "..            ...                                 ...        ...   \n",
       "71           2020                      Data Scientist        Mid   \n",
       "106          2021                  Research Scientist        Mid   \n",
       "270          2021                       Data Engineer      Entry   \n",
       "435          2022                       Data Engineer        Mid   \n",
       "102          2021                     BI Data Analyst        Mid   \n",
       "\n",
       "    Employment_Status Employee_Location Company_Size  Remote_Working_Ratio  \n",
       "9                  FT                NZ            S                    50  \n",
       "227                FT                DE            L                    50  \n",
       "591                FT                US            M                   100  \n",
       "516                FT                US            M                   100  \n",
       "132                FT                VN            M                   100  \n",
       "..                ...               ...          ...                   ...  \n",
       "71                 FT                FR            S                    50  \n",
       "106                FT                CA            L                   100  \n",
       "270                FT                US            L                   100  \n",
       "435                FT                GB            M                   100  \n",
       "102                FT                HU            L                    50  \n",
       "\n",
       "[485 rows x 7 columns]"
      ]
     },
     "execution_count": 18,
     "metadata": {},
     "output_type": "execute_result"
    }
   ],
   "source": [
    "X_train"
   ]
  },
  {
   "cell_type": "code",
   "execution_count": 19,
   "id": "4bf9579958aaa9cf",
   "metadata": {
    "ExecuteTime": {
     "end_time": "2024-02-06T04:28:43.338093500Z",
     "start_time": "2024-02-06T04:28:43.310824700Z"
    },
    "collapsed": false
   },
   "outputs": [
    {
     "data": {
      "text/html": [
       "<div>\n",
       "<style scoped>\n",
       "    .dataframe tbody tr th:only-of-type {\n",
       "        vertical-align: middle;\n",
       "    }\n",
       "\n",
       "    .dataframe tbody tr th {\n",
       "        vertical-align: top;\n",
       "    }\n",
       "\n",
       "    .dataframe thead th {\n",
       "        text-align: right;\n",
       "    }\n",
       "</style>\n",
       "<table border=\"1\" class=\"dataframe\">\n",
       "  <thead>\n",
       "    <tr style=\"text-align: right;\">\n",
       "      <th></th>\n",
       "      <th>Working_Year</th>\n",
       "      <th>Designation</th>\n",
       "      <th>Experience</th>\n",
       "      <th>Employment_Status</th>\n",
       "      <th>Employee_Location</th>\n",
       "      <th>Company_Size</th>\n",
       "      <th>Remote_Working_Ratio</th>\n",
       "    </tr>\n",
       "  </thead>\n",
       "  <tbody>\n",
       "    <tr>\n",
       "      <th>563</th>\n",
       "      <td>2022</td>\n",
       "      <td>Data Engineer</td>\n",
       "      <td>Senior</td>\n",
       "      <td>FT</td>\n",
       "      <td>US</td>\n",
       "      <td>M</td>\n",
       "      <td>100</td>\n",
       "    </tr>\n",
       "    <tr>\n",
       "      <th>289</th>\n",
       "      <td>2022</td>\n",
       "      <td>Data Engineer</td>\n",
       "      <td>Senior</td>\n",
       "      <td>FT</td>\n",
       "      <td>US</td>\n",
       "      <td>M</td>\n",
       "      <td>100</td>\n",
       "    </tr>\n",
       "    <tr>\n",
       "      <th>76</th>\n",
       "      <td>2021</td>\n",
       "      <td>BI Data Analyst</td>\n",
       "      <td>Mid</td>\n",
       "      <td>FT</td>\n",
       "      <td>US</td>\n",
       "      <td>M</td>\n",
       "      <td>100</td>\n",
       "    </tr>\n",
       "    <tr>\n",
       "      <th>78</th>\n",
       "      <td>2021</td>\n",
       "      <td>ML Engineer</td>\n",
       "      <td>Mid</td>\n",
       "      <td>CT</td>\n",
       "      <td>US</td>\n",
       "      <td>L</td>\n",
       "      <td>100</td>\n",
       "    </tr>\n",
       "    <tr>\n",
       "      <th>182</th>\n",
       "      <td>2021</td>\n",
       "      <td>Data Engineer</td>\n",
       "      <td>Mid</td>\n",
       "      <td>FT</td>\n",
       "      <td>RO</td>\n",
       "      <td>L</td>\n",
       "      <td>0</td>\n",
       "    </tr>\n",
       "    <tr>\n",
       "      <th>...</th>\n",
       "      <td>...</td>\n",
       "      <td>...</td>\n",
       "      <td>...</td>\n",
       "      <td>...</td>\n",
       "      <td>...</td>\n",
       "      <td>...</td>\n",
       "      <td>...</td>\n",
       "    </tr>\n",
       "    <tr>\n",
       "      <th>249</th>\n",
       "      <td>2021</td>\n",
       "      <td>Principal Data Analyst</td>\n",
       "      <td>Senior</td>\n",
       "      <td>FT</td>\n",
       "      <td>US</td>\n",
       "      <td>M</td>\n",
       "      <td>100</td>\n",
       "    </tr>\n",
       "    <tr>\n",
       "      <th>365</th>\n",
       "      <td>2022</td>\n",
       "      <td>Data Scientist</td>\n",
       "      <td>Senior</td>\n",
       "      <td>FT</td>\n",
       "      <td>US</td>\n",
       "      <td>M</td>\n",
       "      <td>100</td>\n",
       "    </tr>\n",
       "    <tr>\n",
       "      <th>453</th>\n",
       "      <td>2022</td>\n",
       "      <td>Machine Learning Engineer</td>\n",
       "      <td>Mid</td>\n",
       "      <td>FT</td>\n",
       "      <td>US</td>\n",
       "      <td>S</td>\n",
       "      <td>100</td>\n",
       "    </tr>\n",
       "    <tr>\n",
       "      <th>548</th>\n",
       "      <td>2022</td>\n",
       "      <td>Data Analyst</td>\n",
       "      <td>Senior</td>\n",
       "      <td>FT</td>\n",
       "      <td>US</td>\n",
       "      <td>M</td>\n",
       "      <td>100</td>\n",
       "    </tr>\n",
       "    <tr>\n",
       "      <th>235</th>\n",
       "      <td>2021</td>\n",
       "      <td>Head of Data Science</td>\n",
       "      <td>Mid</td>\n",
       "      <td>FT</td>\n",
       "      <td>US</td>\n",
       "      <td>S</td>\n",
       "      <td>0</td>\n",
       "    </tr>\n",
       "  </tbody>\n",
       "</table>\n",
       "<p>122 rows × 7 columns</p>\n",
       "</div>"
      ],
      "text/plain": [
       "     Working_Year                Designation Experience Employment_Status  \\\n",
       "563          2022              Data Engineer     Senior                FT   \n",
       "289          2022              Data Engineer     Senior                FT   \n",
       "76           2021            BI Data Analyst        Mid                FT   \n",
       "78           2021                ML Engineer        Mid                CT   \n",
       "182          2021              Data Engineer        Mid                FT   \n",
       "..            ...                        ...        ...               ...   \n",
       "249          2021     Principal Data Analyst     Senior                FT   \n",
       "365          2022             Data Scientist     Senior                FT   \n",
       "453          2022  Machine Learning Engineer        Mid                FT   \n",
       "548          2022               Data Analyst     Senior                FT   \n",
       "235          2021       Head of Data Science        Mid                FT   \n",
       "\n",
       "    Employee_Location Company_Size  Remote_Working_Ratio  \n",
       "563                US            M                   100  \n",
       "289                US            M                   100  \n",
       "76                 US            M                   100  \n",
       "78                 US            L                   100  \n",
       "182                RO            L                     0  \n",
       "..                ...          ...                   ...  \n",
       "249                US            M                   100  \n",
       "365                US            M                   100  \n",
       "453                US            S                   100  \n",
       "548                US            M                   100  \n",
       "235                US            S                     0  \n",
       "\n",
       "[122 rows x 7 columns]"
      ]
     },
     "execution_count": 19,
     "metadata": {},
     "output_type": "execute_result"
    }
   ],
   "source": [
    "X_test"
   ]
  },
  {
   "cell_type": "code",
   "execution_count": 20,
   "id": "57c87057921fb3b9",
   "metadata": {
    "ExecuteTime": {
     "end_time": "2024-02-06T04:28:43.490715100Z",
     "start_time": "2024-02-06T04:28:43.326446800Z"
    },
    "collapsed": false
   },
   "outputs": [
    {
     "data": {
      "text/plain": [
       "9      119354.0\n",
       "227     84650.0\n",
       "591    138312.0\n",
       "516    145612.0\n",
       "132     36666.0\n",
       "         ...   \n",
       "71      40291.0\n",
       "106    178976.0\n",
       "270     69225.0\n",
       "435     87476.0\n",
       "102     34621.0\n",
       "Name: Salary_USD, Length: 485, dtype: float64"
      ]
     },
     "execution_count": 20,
     "metadata": {},
     "output_type": "execute_result"
    }
   ],
   "source": [
    "y_train"
   ]
  },
  {
   "cell_type": "code",
   "execution_count": 21,
   "id": "52aaef4a87898acf",
   "metadata": {
    "ExecuteTime": {
     "end_time": "2024-02-06T04:28:43.625468200Z",
     "start_time": "2024-02-06T04:28:43.429489600Z"
    },
    "collapsed": false
   },
   "outputs": [
    {
     "data": {
      "text/plain": [
       "563    133915.0\n",
       "289    128903.0\n",
       "76      95483.0\n",
       "78     257805.0\n",
       "182     24830.0\n",
       "         ...   \n",
       "249    162322.0\n",
       "365    132340.0\n",
       "453    114580.0\n",
       "548     94576.0\n",
       "235    105032.0\n",
       "Name: Salary_USD, Length: 122, dtype: float64"
      ]
     },
     "execution_count": 21,
     "metadata": {},
     "output_type": "execute_result"
    }
   ],
   "source": [
    "y_test"
   ]
  }
 ],
 "metadata": {
  "kernelspec": {
   "display_name": "Python 3",
   "language": "python",
   "name": "python3"
  },
  "language_info": {
   "codemirror_mode": {
    "name": "ipython",
    "version": 3
   },
   "file_extension": ".py",
   "mimetype": "text/x-python",
   "name": "python",
   "nbconvert_exporter": "python",
   "pygments_lexer": "ipython3",
   "version": "3.10.13"
  }
 },
 "nbformat": 4,
 "nbformat_minor": 5
}
